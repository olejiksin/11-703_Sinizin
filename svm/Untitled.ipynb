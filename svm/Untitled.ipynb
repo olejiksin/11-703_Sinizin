{
 "cells": [
  {
   "cell_type": "code",
   "execution_count": 8,
   "metadata": {},
   "outputs": [
    {
     "name": "stdout",
     "output_type": "stream",
     "text": [
      "b:  37.46432683686315\n",
      "[(171, 165), (177, 224), (233, 202), (252, 150), (262, 234), (364, 204), (348, 118), (328, 155), (383, 174)]\n",
      "[[252. 150.]\n",
      " [262. 234.]\n",
      " [328. 155.]]\n"
     ]
    },
    {
     "data": {
      "image/png": "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\n",
      "text/plain": [
       "<Figure size 432x288 with 1 Axes>"
      ]
     },
     "metadata": {
      "needs_background": "light"
     },
     "output_type": "display_data"
    }
   ],
   "source": [
    "import pygame \n",
    "from sklearn import svm\n",
    "import matplotlib.pyplot as plt\n",
    "import numpy as np\n",
    "pygame.init()\n",
    "\n",
    "scr=pygame.display.set_mode((600,400))\n",
    "scr.fill((255,255,255))\n",
    "pygame.display.update()\n",
    "\n",
    "def dist(x1,y1,x2,y2):\n",
    "    return np.sqrt((x1-x2)**2+(y1-y2)**2)\n",
    "\n",
    "clock=pygame.time.Clock()\n",
    "FPS=60\n",
    "\n",
    "xxx=[]\n",
    "yyy=[]\n",
    "\n",
    "points=[]\n",
    "clusters=[]\n",
    "\n",
    "p=True\n",
    "while p:\n",
    "    for i in pygame.event.get():\n",
    "        if i.type==pygame.QUIT:\n",
    "            p=False\n",
    "        if i.type==pygame.MOUSEBUTTONDOWN:\n",
    "            if i.button==1:\n",
    "                pygame.draw.circle(scr, (255,0,0), i.pos, 5)\n",
    "                points.append(i.pos)\n",
    "                clusters.append(0)\n",
    "        if i.type==pygame.MOUSEBUTTONDOWN:\n",
    "            if i.button==3:\n",
    "                pygame.draw.circle(scr, (0,255,0), i.pos, 5)\n",
    "                points.append(i.pos)\n",
    "                clusters.append(1)\n",
    "        if i.type==pygame.MOUSEBUTTONDOWN:\n",
    "            if i.button==2:\n",
    "                scr.fill((255,255,255))\n",
    "                points=[]\n",
    "                clusters=[]\n",
    "        if i.type==pygame.KEYDOWN:\n",
    "            if i.key==pygame.K_r:\n",
    "                algr=svm.SVC(C=1.0, kernel='linear')\n",
    "                algr.fit(points,clusters)\n",
    "                w=algr.coef_[0]\n",
    "                \n",
    "                a = -w[0] / w[1]\n",
    "                xx = np.linspace(100,500,600)\n",
    "                yy = (a * xx - algr.intercept_[0] / w[1])\n"
    "                \n",
    "                b=10000\n",
    "                point=[]\n",
    "                \n",
    "                for j in range(0, len(points)):\n",
    "                    for i in range(0,len(yy)):\n",
    "                        if(b>dist(points[j][0],points[j][1],xx[i],yy[i])):\n",
    "                            b=dist(points[j][0],points[j][1],xx[i],yy[i])\n",
    "                            point=[j,i]\n",
    "                        \n",
    "                print('b: ',b) \n",
    "                print(points)\n",
    "                print(algr.support_vectors_)\n",
    "                pygame.draw.line(scr,(0,255,255),(xx[0],yy[0]), (xx[len(xx)-1], yy[len(yy)-1]), 2)\n",
    "                pygame.draw.line(scr,(0,255,255),(xx[0]-b,yy[0]-b), (xx[len(xx)-1]-b, yy[len(yy)-1]-b), 2)\n",
    "                pygame.draw.line(scr,(0,255,255),(xx[0]+b,yy[0]+b), (xx[len(xx)-1]+b, yy[len(yy)-1]+b), 2)\n",
    "                \n",
    "                plt.axis([0.0, 600.0, -300.0, 0.0])\n",
    "                for  i in range(0,len(points)):\n",
    "                    plt.scatter(points[i][0],-points[i][1],c='b')\n",
    "                plt.plot(xx,-yy,c='r')\n",
    "                plt.plot(xx+b,-(yy+b),c='r')\n",
    "                plt.plot(xx-b,-(yy-b),c='r')\n",
    "                plt.show()\n",
    "                \n",
    "    clock.tick(FPS)\n",
    "    pygame.display.update()\n",
    "\n"
   ]
  },
  {
   "cell_type": "code",
   "execution_count": null,
   "metadata": {},
   "outputs": [],
   "source": []
  }
 ],
 "metadata": {
  "kernelspec": {
   "display_name": "Python 3",
   "language": "python",
   "name": "python3"
  },
  "language_info": {
   "codemirror_mode": {
    "name": "ipython",
    "version": 3
   },
   "file_extension": ".py",
   "mimetype": "text/x-python",
   "name": "python",
   "nbconvert_exporter": "python",
   "pygments_lexer": "ipython3",
   "version": "3.7.3"
  }
 },
 "nbformat": 4,
 "nbformat_minor": 2
}
