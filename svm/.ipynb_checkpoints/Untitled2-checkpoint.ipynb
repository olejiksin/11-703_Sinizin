{
 "cells": [
  {
   "cell_type": "code",
   "execution_count": 1,
   "metadata": {},
   "outputs": [
    {
     "ename": "IndentationError",
     "evalue": "expected an indented block (<ipython-input-1-9c4e7644963f>, line 55)",
     "output_type": "error",
     "traceback": [
      "\u001b[1;36m  File \u001b[1;32m\"<ipython-input-1-9c4e7644963f>\"\u001b[1;36m, line \u001b[1;32m55\u001b[0m\n\u001b[1;33m    for i in range(0,len(yy)):\u001b[0m\n\u001b[1;37m      ^\u001b[0m\n\u001b[1;31mIndentationError\u001b[0m\u001b[1;31m:\u001b[0m expected an indented block\n"
     ]
    }
   ],
   "source": [
    "import pygame \n",
    "from sklearn import svm\n",
    "import matplotlib.pyplot as plt\n",
    "import numpy as np\n",
    "pygame.init()\n",
    "    \n",
    "scr=pygame.display.set_mode((600,400))\n",
    "scr.fill((255,255,255))\n",
    "pygame.display.update()\n",
    "    \n",
    "def dist(x1,y1,x2,y2):\n",
    "    return np.sqrt((x1-x2)**2+(y1-y2)**2)\n",
    "    \n",
    "clock=pygame.time.Clock()\n",
    "FPS=60\n",
    "    \n",
    "xxx=[]\n",
    "yyy=[]\n",
    "    \n",
    "points=[]\n",
    "clusters=[]\n",
    "p=True\n",
    "while p:\n",
    "    for i in pygame.event.get():\n",
    "        if i.type==pygame.QUIT:\n",
    "            p=False\n",
    "        if i.type==pygame.MOUSEBUTTONDOWN:\n",
    "            if i.button==1:\n",
    "                pygame.draw.circle(scr, (255,0,0), i.pos, 5)\n",
    "                points.append(i.pos)\n",
    "                clusters.append(0)\n",
    "        if i.type==pygame.MOUSEBUTTONDOWN:\n",
    "            if i.button==3:\n",
    "                pygame.draw.circle(scr, (0,255,0), i.pos, 5)\n",
    "                points.append(i.pos)\n",
    "                clusters.append(1)\n",
    "        if i.type==pygame.MOUSEBUTTONDOWN:\n",
    "            if i.button==2:\n",
    "                scr.fill((255,255,255))\n",
    "                points=[]\n",
    "                clusters=[]\n",
    "        if i.type==pygame.KEYDOWN:\n",
    "            if i.key==pygame.K_r:\n",
    "                algr=svm.SVC(C=1.0, kernel='linear')\n",
    "                algr.fit(points,clusters)\n",
    "                w=algr.coef_[0]\n",
    "                    \n",
    "                a = -w[0] / w[1]\n",
    "                xx = np.linspace(100,500,600)\n",
    "                yy = (a * xx - algr.intercept_[0] / w[1])\n",
    "                b=10000\n",
    "                point=[]\n",
    "                    \n",
    "                for j in range(0, len(points)):\n",
    "                    for i in range(0,len(yy)):\n",
    "                        if(b>dist(points[j][0],points[j][1],xx[i],yy[i])):\n",
    "                            b=dist(points[j][0],points[j][1],xx[i],yy[i])\n",
    "                            point=[j,i]\n",
    "                            \n",
    "                print('b: ',b) \n",
    "                print(points)\n",
    "                print(algr.support_vectors_)\n",
    "                pygame.draw.line(scr,(0,255,255),(xx[0],yy[0]), (xx[len(xx)-1], yy[len(yy)-1]), 2)\n",
    "                pygame.draw.line(scr,(0,255,255),(xx[0]-b,yy[0]-b), (xx[len(xx)-1]-b, yy[len(yy)-1]-b), 2)\n",
    "                pygame.draw.line(scr,(0,255,255),(xx[0]+b,yy[0]+b), (xx[len(xx)-1]+b, yy[len(yy)-1]+b), 2)\n",
    "                    \n",
    "                plt.axis([0.0, 600.0, -300.0, 0.0])\n",
    "                for  i in range(0,len(points)):\n",
    "                    plt.scatter(points[i][0],-points[i][1],c='b')\n",
    "                plt.plot(xx,-yy,c='r')\n",
    "                plt.plot(xx+b,-(yy+b),c='r')\n",
    "                plt.plot(xx-b,-(yy-b),c='r')\n",
    "                plt.show()\n",
    "                    \n",
    "    clock.tick(FPS)\n",
    "    pygame.display.update()"
   ]
  }
 ],
 "metadata": {
  "kernelspec": {
   "display_name": "Python 3",
   "language": "python",
   "name": "python3"
  },
  "language_info": {
   "codemirror_mode": {
    "name": "ipython",
    "version": 3
   },
   "file_extension": ".py",
   "mimetype": "text/x-python",
   "name": "python",
   "nbconvert_exporter": "python",
   "pygments_lexer": "ipython3",
   "version": "3.7.3"
  }
 },
 "nbformat": 4,
 "nbformat_minor": 2
}
