{
 "cells": [
  {
   "cell_type": "code",
   "execution_count": 1,
   "metadata": {},
   "outputs": [
    {
     "name": "stdout",
     "output_type": "stream",
     "text": [
      "pygame 2.0.0 (SDL 2.0.12, python 3.7.3)\n",
      "Hello from the pygame community. https://www.pygame.org/contribute.html\n",
      "[[-0.01005872 -0.00097013]]\n",
      "0.0\n",
      "[[-0.01546335 -0.01030936]]\n",
      "0.0\n",
      "[[-0.01947052 -0.01077518]]\n",
      "0.0\n",
      "[[-0.01947052 -0.01077518]]\n",
      "0.0\n",
      "[[-0.01947052 -0.01077518]]\n",
      "0.0\n",
      "[[-0.01947052 -0.01077518]]\n",
      "0.0\n",
      "[[-0.01947052 -0.01077518]]\n",
      "0.0\n",
      "[[-0.01947364 -0.0107854 ]]\n",
      "0.0\n"
     ]
    }
   ],
   "source": [
    "import pygame \n",
    "from sklearn import svm\n",
    "import matplotlib as plt\n",
    "pygame.init()\n",
    "\n",
    "scr=pygame.display.set_mode((600,400))\n",
    "scr.fill((255,255,255))\n",
    "pygame.display.update()\n",
    "\n",
    "clock=pygame.time.Clock()\n",
    "FPS=60\n",
    "\n",
    "points=[]\n",
    "clusters=[]\n",
    "\n",
    "p=True\n",
    "while p:\n",
    "    for i in pygame.event.get():\n",
    "        if i.type==pygame.QUIT:\n",
    "            p=False\n",
    "        if i.type==pygame.MOUSEBUTTONDOWN:\n",
    "            if i.button==1:\n",
    "                pygame.draw.circle(scr, (255,0,0), i.pos, 5)\n",
    "                points.append(i.pos)\n",
    "                clusters.append(0)\n",
    "        if i.type==pygame.MOUSEBUTTONDOWN:\n",
    "            if i.button==3:\n",
    "                pygame.draw.circle(scr, (0,255,0), i.pos, 5)\n",
    "                points.append(i.pos)\n",
    "                clusters.append(1)\n",
    "        if i.type==pygame.MOUSEBUTTONDOWN:\n",
    "            if i.button==2:\n",
    "                scr.fill((255,255,255))\n",
    "                points=[]\n",
    "                clusters=[]\n",
    "        if i.type==pygame.KEYDOWN:\n",
    "            if i.key==pygame.K_r:\n",
    "                algr=svm.SVC(C=1.0, kernel='linear')\n",
    "                algr.fit(points,clusters)\n",
    "                w=algr.coef_\n",
    "                print(w)\n",
    "                pygame.draw.line(scr, (0,255,255), (600,400), (w[0][0],w[0][1]), 2)\n",
    "                #pygame.draw.line(scr, (0,255,255), (0,0), (1,1))\n",
    "    clock.tick(FPS)\n",
    "    pygame.display.update()\n",
    "            "
   ]
  }
 ],
 "metadata": {
  "kernelspec": {
   "display_name": "Python 3",
   "language": "python",
   "name": "python3"
  },
  "language_info": {
   "codemirror_mode": {
    "name": "ipython",
    "version": 3
   },
   "file_extension": ".py",
   "mimetype": "text/x-python",
   "name": "python",
   "nbconvert_exporter": "python",
   "pygments_lexer": "ipython3",
   "version": "3.7.3"
  }
 },
 "nbformat": 4,
 "nbformat_minor": 2
}
