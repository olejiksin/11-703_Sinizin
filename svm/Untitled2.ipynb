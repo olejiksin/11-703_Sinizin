{
 "cells": [
  {
   "cell_type": "code",
   "execution_count": 3,
   "metadata": {},
   "outputs": [
    {
     "name": "stdout",
     "output_type": "stream",
     "text": [
      "b:  35.654780826589324\n",
      "[(143, 119), (134, 175), (161, 164), (170, 146), (183, 178), (252, 160), (280, 122), (308, 193), (318, 160), (276, 191)]\n",
      "[[183. 178.]\n",
      " [252. 160.]]\n"
     ]
    },
    {
     "data": {
      "image/png": "[encoded data removed]",
      "text/plain": [
       "<Figure size 432x288 with 1 Axes>"
      ]
     },
     "metadata": {
      "needs_background": "light"
     },
     "output_type": "display_data"
    }
   ],
   "source": [
    "import pygame \n",
    "from sklearn import svm\n",
    "import matplotlib.pyplot as plt\n",
    "import numpy as np\n",
    "pygame.init()\n",
    "    \n",
    "scr=pygame.display.set_mode((600,400))\n",
    "scr.fill((255,255,255))\n",
    "pygame.display.update()\n",
    "    \n",
    "def dist(x1,y1,x2,y2):\n",
    "    return np.sqrt((x1-x2)**2+(y1-y2)**2)\n",
    "    \n",
    "clock=pygame.time.Clock()\n",
    "FPS=60\n",
    "    \n",
    "xxx=[]\n",
    "yyy=[]\n",
    "    \n",
    "points=[]\n",
    "clusters=[]\n",
    "p=True\n",
    "while p:\n",
    "    for i in pygame.event.get():\n",
    "        if i.type==pygame.QUIT:\n",
    "            p=False\n",
    "        if i.type==pygame.MOUSEBUTTONDOWN:\n",
    "            if i.button==1:\n",
    "                pygame.draw.circle(scr, (255,0,0), i.pos, 5)\n",
    "                points.append(i.pos)\n",
    "                clusters.append(0)\n",
    "        if i.type==pygame.MOUSEBUTTONDOWN:\n",
    "            if i.button==3:\n",
    "                pygame.draw.circle(scr, (0,255,0), i.pos, 5)\n",
    "                points.append(i.pos)\n",
    "                clusters.append(1)\n",
    "        if i.type==pygame.MOUSEBUTTONDOWN:\n",
    "            if i.button==2:\n",
    "                scr.fill((255,255,255))\n",
    "                points=[]\n",
    "                clusters=[]\n",
    "        if i.type==pygame.KEYDOWN:\n",
    "            if i.key==pygame.K_r:\n",
    "                algr=svm.SVC(C=1.0, kernel='linear')\n",
    "                algr.fit(points,clusters)\n",
    "                w=algr.coef_[0]\n",
    "                    \n",
    "                a = -w[0] / w[1]\n",
    "                xx = np.linspace(100,500,600)\n",
    "                yy = (a * xx - algr.intercept_[0] / w[1])\n",
    "                b=10000\n",
    "                point=[]\n",
    "                    \n",
    "                for j in range(0, len(points)):\n",
    "                    for i in range(0,len(yy)):\n",
    "                        if(b>dist(points[j][0],points[j][1],xx[i],yy[i])):\n",
    "                            b=dist(points[j][0],points[j][1],xx[i],yy[i])\n",
    "                            point=[j,i]\n",
    "                            \n",
    "                print('b: ',b) \n",
    "                print(points)\n",
    "                print(algr.support_vectors_)\n",
    "                pygame.draw.line(scr,(0,255,255),(xx[0],yy[0]), (xx[len(xx)-1], yy[len(yy)-1]), 2)\n",
    "                pygame.draw.line(scr,(0,255,255),(xx[0]-b,yy[0]-b), (xx[len(xx)-1]-b, yy[len(yy)-1]-b), 2)\n",
    "                pygame.draw.line(scr,(0,255,255),(xx[0]+b,yy[0]+b), (xx[len(xx)-1]+b, yy[len(yy)-1]+b), 2)\n",
    "                    \n",
    "                plt.axis([0.0, 600.0, -300.0, 0.0])\n",
    "                for  i in range(0,len(points)):\n",
    "                    plt.scatter(points[i][0],-points[i][1],c='b')\n",
    "                plt.plot(xx,-yy,c='r')\n",
    "                plt.plot(xx+b,-(yy+b),c='r')\n",
    "                plt.plot(xx-b,-(yy-b),c='r')\n",
    "                plt.show()\n",
    "                    \n",
    "    clock.tick(FPS)\n",
    "    pygame.display.update()"
   ]
  }
 ],
 "metadata": {
  "kernelspec": {
   "display_name": "Python 3",
   "language": "python",
   "name": "python3"
  },
  "language_info": {
   "codemirror_mode": {
    "name": "ipython",
    "version": 3
   },
   "file_extension": ".py",
   "mimetype": "text/x-python",
   "name": "python",
   "nbconvert_exporter": "python",
   "pygments_lexer": "ipython3",
   "version": "3.7.3"
  }
 },
 "nbformat": 4,
 "nbformat_minor": 2
}
