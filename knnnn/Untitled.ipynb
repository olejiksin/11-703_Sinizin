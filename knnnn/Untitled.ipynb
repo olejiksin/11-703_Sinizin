{
 "cells": [
  {
   "cell_type": "code",
   "execution_count": 83,
   "metadata": {
    "scrolled": false
   },
   "outputs": [
    {
     "data": {
      "image/png": "[encoded data removed]",
      "text/plain": [
       "<Figure size 432x288 with 1 Axes>"
      ]
     },
     "metadata": {
      "needs_background": "light"
     },
     "output_type": "display_data"
    },
    {
     "name": "stdout",
     "output_type": "stream",
     "text": [
      "[[[1.6445479640193852], 3], [[1.765999348288363], 3], [[2.1600430004955578], 3], [[2.300944603024371], 3], [[2.510004029973992], 3], [[2.5435912068717093], 3], [[2.5752395444175464], 3], [[2.603664820056998], 3], [[2.72635598340573], 3], [[2.7347279010830157], 3], [[2.955980827915355], 3], [[3.0712548932721853], 2], [[3.1089978993408227], 3], [[3.216246390827189], 3], [[3.2372325540874933], 3], [[3.3267031113635714], 2], [[3.3448202202093262], 3], [[3.3679069183386217], 0], [[3.4618458962592062], 1], [[3.575748085112793], 2], [[3.6750855426543154], 1], [[3.7000167598429097], 3], [[3.7059566541541744], 2], [[3.7599236979378943], 0], [[3.944751055511754], 2], [[4.005920677312989], 0], [[4.0710194090661505], 1], [[4.102151004617602], 0], [[4.392117280344448], 0], [[4.484874839101808], 1], [[4.507496289440531], 2], [[4.53056662914582], 1], [[4.565053045829187], 0], [[4.711362908759971], 2], [[4.72824942223866], 0], [[4.790785539653589], 2], [[4.797226183547278], 1], [[4.830030506757608], 0], [[4.840452558342544], 2], [[4.861738278349219], 0], [[4.8826106250023145], 2], [[4.950037024343169], 1], [[4.988130103933852], 0], [[5.022362912528594], 1], [[5.022378162872677], 1], [[5.116895455989999], 0], [[5.202155024644537], 2], [[5.258848987652077], 2], [[5.433360863324247], 0], [[5.554490908856656], 1], [[5.697892994494075], 2], [[5.891616735347135], 0], [[5.994563022087862], 1], [[6.028058505998189], 1], [[6.049112767783219], 2], [[6.252928820680657], 0], [[6.276674760650511], 2], [[6.28694122476444], 0], [[6.315743925389895], 2], [[6.340165785444483], 0], [[6.3858776541354585], 1], [[6.813685378046186], 1], [[7.023968862120456], 1], [[7.2046508956641295], 1]]\n",
      "[3, 3, 3, 3]\n",
      "кластер новой точки:  3\n"
     ]
    }
   ],
   "source": [
    "import numpy as np\n",
    "import matplotlib.pyplot as plt\n",
    "import random\n",
    "from matplotlib.colors import ListedColormap\n",
    "import pylab as pl\n",
    "from collections import Counter\n",
    "\n",
    "\n",
    "n=16\n",
    "cla=np.int(np.sqrt(n))\n",
    "x=[]\n",
    "y=[]\n",
    "clust=[]\n",
    "\n",
    "def dist(x1,y1,x2,y2):\n",
    "        return np.sqrt((x1-x2)**2+(y1-y2)**2)\n",
    "\n",
    "def generateData (numberOfClassEl, numberOfClasses):\n",
    "    data = []\n",
    "    for classNum in range(numberOfClasses):\n",
    "        centerX, centerY = random.random()*10.0, random.random()*10.0\n",
    "        for rowNum in range(numberOfClassEl):\n",
    "            data.append([ [random.gauss(centerX,1), random.gauss(centerY,1)], classNum])   \n",
    "    for i in range(len(data)):\n",
    "        x.append(data[i][0][0])\n",
    "        y.append(data[i][0][1])\n",
    "        clust.append(data[i][1])\n",
    "        \n",
    "generateData (n, cla)\n",
    "\n",
    "x_min,x_max=min(x),max(x)-min(x)\n",
    "y_min,y_max=min(y),max(y)-min(y)\n",
    "\n",
    "x_new,y_new=(x_max-x_min)/2, (y_max-y_min)/2\n",
    "new_clust=clust[0]\n",
    "\n",
    "plt.scatter(x_new,y_new, color='b')\n",
    "for i in range(0,len(clust)):\n",
    "    clr=(clust[i]+1)/cla\n",
    "    plt.scatter(x[i],y[i],color=(clr, 0.2, clr**2))\n",
    "plt.show()\n",
    "        \n",
    "distance=[]\n",
    "\n",
    "for i in range(len(x)):\n",
    "    distance.append([[dist(x_new,y_new,x[i],y[i])],clust[i]])\n",
    "    \n",
    "distance.sort()\n",
    "print(distance)\n",
    "\n",
    "nghs=[]\n",
    "\n",
    "\n",
    "for i in range(cla):\n",
    "    nghs.append(distance[i][1])\n",
    "        \n",
    "ng=Counter(nghs)\n",
    "\n",
    "print(nghs)\n",
    "new_clust=max(set(nghs), key=lambda x: nghs.count(x))\n",
    "print('кластер новой точки: ',new_clust)\n",
    "\n",
    "\n"
   ]
  }
 ],
 "metadata": {
  "kernelspec": {
   "display_name": "Python 3",
   "language": "python",
   "name": "python3"
  },
  "language_info": {
   "codemirror_mode": {
    "name": "ipython",
    "version": 3
   },
   "file_extension": ".py",
   "mimetype": "text/x-python",
   "name": "python",
   "nbconvert_exporter": "python",
   "pygments_lexer": "ipython3",
   "version": "3.7.3"
  }
 },
 "nbformat": 4,
 "nbformat_minor": 2
}
