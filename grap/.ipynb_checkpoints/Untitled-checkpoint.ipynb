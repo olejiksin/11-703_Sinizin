{
 "cells": [
  {
   "cell_type": "code",
   "execution_count": 68,
   "metadata": {},
   "outputs": [
    {
     "name": "stdout",
     "output_type": "stream",
     "text": [
      "     0    1    2    3    4    5    6    7    8\n",
      "0  0.0  4.0  0.0  0.0  0.0  2.0  0.0  0.0  0.0\n",
      "1  4.0  0.0  0.0  0.0  0.0  3.0  0.0  0.0  0.0\n",
      "2  0.0  0.0  0.0  0.0  0.0  0.0  0.0  0.0  3.0\n",
      "3  0.0  0.0  0.0  0.0  0.0  0.0  0.0  0.0  4.0\n",
      "4  0.0  0.0  0.0  0.0  0.0  0.0  0.0  0.0  0.0\n",
      "5  2.0  3.0  0.0  0.0  0.0  0.0  4.0  3.0  0.0\n",
      "6  0.0  0.0  0.0  0.0  0.0  4.0  0.0  0.0  0.0\n",
      "7  0.0  0.0  0.0  0.0  0.0  3.0  0.0  0.0  0.0\n",
      "8  0.0  0.0  3.0  4.0  0.0  0.0  0.0  0.0  0.0\n",
      "     0    1    2    3    4    5    6    7    8\n",
      "0 -1.0  4.0  0.0  0.0  0.0  2.0  0.0  0.0  0.0\n",
      "1  4.0 -1.0  0.0  0.0  0.0  3.0  0.0  0.0  0.0\n",
      "2  0.0  0.0 -1.0  0.0  0.0  0.0  0.0  0.0  3.0\n",
      "3  0.0  0.0  0.0 -1.0  0.0  0.0  0.0  0.0  4.0\n",
      "4  0.0  0.0  0.0  0.0 -1.0  0.0  0.0  0.0  0.0\n",
      "5  2.0  3.0  0.0  0.0  0.0 -1.0  4.0  3.0  0.0\n",
      "6  0.0  0.0  0.0  0.0  0.0  4.0 -1.0  0.0  0.0\n",
      "7  0.0  0.0  0.0  0.0  0.0  3.0  0.0 -1.0  0.0\n",
      "8  0.0  0.0  3.0  4.0  0.0  0.0  0.0  0.0 -1.0\n",
      "DELETED:  0 1\n",
      "4.0\n",
      "     0    1    2    3    4    5    6    7    8\n",
      "0 -1.0  0.0  0.0  0.0  0.0  2.0  0.0  0.0  0.0\n",
      "1  0.0 -1.0  0.0  0.0  0.0  3.0  0.0  0.0  0.0\n",
      "2  0.0  0.0 -1.0  0.0  0.0  0.0  0.0  0.0  3.0\n",
      "3  0.0  0.0  0.0 -1.0  0.0  0.0  0.0  0.0  4.0\n",
      "4  0.0  0.0  0.0  0.0 -1.0  0.0  0.0  0.0  0.0\n",
      "5  2.0  3.0  0.0  0.0  0.0 -1.0  4.0  3.0  0.0\n",
      "6  0.0  0.0  0.0  0.0  0.0  4.0 -1.0  0.0  0.0\n",
      "7  0.0  0.0  0.0  0.0  0.0  3.0  0.0 -1.0  0.0\n",
      "8  0.0  0.0  3.0  4.0  0.0  0.0  0.0  0.0 -1.0\n"
     ]
    },
    {
     "name": "stderr",
     "output_type": "stream",
     "text": [
      "D:\\Users\\oleji\\Anaconda3\\lib\\site-packages\\networkx\\drawing\\nx_pylab.py:579: MatplotlibDeprecationWarning: \n",
      "The iterable function was deprecated in Matplotlib 3.1 and will be removed in 3.3. Use np.iterable instead.\n",
      "  if not cb.iterable(width):\n"
     ]
    },
    {
     "data": {
      "image/png": "[encoded data removed]",
      "text/plain": [
       "<Figure size 432x288 with 1 Axes>"
      ]
     },
     "metadata": {},
     "output_type": "display_data"
    }
   ],
   "source": [
    "import numpy as np\n",
    "import matplotlib.pyplot as plt\n",
    "import pandas as pd\n",
    "import networkx as nx\n",
    "\n",
    "\n",
    "n,k=9,2\n",
    "\n",
    "\n",
    "d = pd.DataFrame(np.zeros((n, n)))\n",
    "a = pd.DataFrame(np.zeros((n, n)))\n",
    "\n",
    "for i in range(0,n):\n",
    "    for j in range(i+1,n):\n",
    "        d[i][j]=np.random.randint(2,10)\n",
    "\n",
    "for i in range(0,n):\n",
    "    for j in range(0,n):\n",
    "        if(d[i][j]!=0):\n",
    "            d[j][i]=d[i][j]\n",
    "\n",
    "\n",
    "for i in range(0,n):\n",
    "    minimal=d[0][1]\n",
    "    i_min,j_min=0,1\n",
    "    for j in range(0,n):\n",
    "        if(d[i][j]<=minimal and i!=j):\n",
    "            minimal=d[i][j]\n",
    "            i_min,j_min=i,j\n",
    "    a[i_min][j_min]=a[j_min][i_min]=d[i_min][j_min]\n",
    "  \n",
    "print(a)\n",
    "\n",
    "for i in range(0,n):\n",
    "    minim=None\n",
    "    i_min,j_min=0,1\n",
    "    if (a[i][i]!=-1):\n",
    "        for j in range(0,n):\n",
    "            if (a[i][j]==0 and i!=j):\n",
    "                if(minim==None or minim>a[i][j]):\n",
    "                    minim=a[i][j]\n",
    "                    i_min,j_min=i,i\n",
    "        a[i_min][j_min]=a[j_min][i_min]=d[i_min][j_min]\n",
    "        a[i][i]=a[j][j]=-1\n",
    "\n",
    "print(a)\n",
    "\n",
    "for i in range(0,k-1):\n",
    "    max=0\n",
    "    i_max,j_max=0,0\n",
    "    for j in range(0,n):\n",
    "        for l in range(0,n):\n",
    "            if(a[j][l]>max and j!=l):\n",
    "                max=a[j][l]\n",
    "                i_max,j_max=j,l\n",
    "    print('DELETED: ', i_max,j_max)\n",
    "    print(max)\n",
    "    a[i_max][j_max]=a[j_max][i_max]=0\n",
    "    \n",
    "print(a)\n",
    "\n",
    "\n",
    "links = a.stack().reset_index()\n",
    "links.columns = ['var1', 'var2','value']\n",
    "links\n",
    " \n",
    "links_filtered=links.loc[(links['value'] == -1.0) | (links['value'] > 0.8) & (links['var1'] != links['var2']) ]\n",
    "links_filtered\n",
    " \n",
    "G=nx.from_pandas_edgelist(links_filtered, 'var1', 'var2')\n",
    " \n",
    "nx.draw(G, with_labels=True, node_color='orange', node_size=400, edge_color='black', linewidths=1, font_size=15)\n"
   ]
  },
  {
   "cell_type": "code",
   "execution_count": null,
   "metadata": {},
   "outputs": [],
   "source": []
  }
 ],
 "metadata": {
  "kernelspec": {
   "display_name": "Python 3",
   "language": "python",
   "name": "python3"
  },
  "language_info": {
   "codemirror_mode": {
    "name": "ipython",
    "version": 3
   },
   "file_extension": ".py",
   "mimetype": "text/x-python",
   "name": "python",
   "nbconvert_exporter": "python",
   "pygments_lexer": "ipython3",
   "version": "3.7.3"
  }
 },
 "nbformat": 4,
 "nbformat_minor": 2
}
