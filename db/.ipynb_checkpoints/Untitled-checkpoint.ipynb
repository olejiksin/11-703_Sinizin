{
 "cells": [
  {
   "cell_type": "code",
   "execution_count": 312,
   "metadata": {
    "scrolled": false
   },
   "outputs": [
    {
     "name": "stdout",
     "output_type": "stream",
     "text": [
      "[46 93 21 68 60  7 93 28 35 80 37 30 10 49 55 42 25 51 69 83 65 94 32 75\n",
      " 49 18 66 97 81 50 20 55 11 89 84 86 23 43 70 64 63 65 63 17 76 71 76 79\n",
      " 13  3 83 30 85 28 16 85 26 16 18 50 94 55 99 94 79 14 18  8 77 56 67 68\n",
      " 83 78 96 43 34 68 72 17 96 30 91 85 88 45 70 57 24 97  8 48 96 51 64 24\n",
      " 19 27 10 81]\n",
      "[list([26, 41]) list([58]) list([82])]\n",
      "[-1, -1, -1, -1, -1, -1, -1, -1, -1, -1, -1, -1, -1, -1, -1, -1, -1, -1, -1, -1, -1, -1, -1, -1, -1, -1, 0, -1, -1, -1, -1, -1, -1, -1, -1, -1, -1, -1, -1, -1, -1, 0, -1, -1, -1, -1, -1, -1, -1, -1, -1, -1, -1, -1, -1, -1, -1, -1, 1, -1, -1, -1, -1, -1, -1, -1, -1, -1, -1, -1, -1, -1, -1, -1, -1, -1, -1, -1, -1, -1, -1, -1, 2, -1, -1, -1, -1, -1, -1, -1, -1, -1, -1, -1, -1, -1, -1, -1, -1, -1]\n"
     ]
    },
    {
     "data": {
      "image/png": "[encoded data removed]",
      "text/plain": [
       "<Figure size 432x288 with 1 Axes>"
      ]
     },
     "metadata": {
      "needs_background": "light"
     },
     "output_type": "display_data"
    },
    {
     "data": {
      "image/png": "[encoded data removed]",
      "text/plain": [
       "<Figure size 432x288 with 1 Axes>"
      ]
     },
     "metadata": {
      "needs_background": "light"
     },
     "output_type": "display_data"
    }
   ],
   "source": [
    "import numpy as np\n",
    "import matplotlib.pyplot as plt\n",
    "import math\n",
    "\n",
    "eps=6\n",
    "minPts=3\n",
    "n=100\n",
    "x=np.random.randint(1,100,n)\n",
    "y=np.random.randint(1,100,n)\n",
    "\n",
    "flags=[]\n",
    "def dbscan():\n",
    "    for i in range(0,n):\n",
    "        pointCount=-1\n",
    "        for j in range(0,n):\n",
    "            if(dist(x[i],y[i],x[j],y[j])<eps):\n",
    "                pointCount+=1\n",
    "        if(pointCount>=minPts):\n",
    "            flags.append('g')\n",
    "        else:\n",
    "            flags.append('r')\n",
    "    for i in range(0,n):\n",
    "        if(flags[i]!='g'):\n",
    "            for j in range(0,n):\n",
    "                if(flags[j]=='g'):\n",
    "                    if(dist(x[i],y[i],x[j],y[j])<eps):\n",
    "                        flags[i]='y'\n",
    "                        break\n",
    "\n",
    "    cluster=[-1]*n\n",
    "    alls=[]\n",
    "    for i in range(0,n):\n",
    "        if(flags[i]=='g'):\n",
    "            alls.append(nghs(i))\n",
    "\n",
    "    for i in range(0,len(alls)):\n",
    "        for j in range(0,len(alls)):\n",
    "            if(i!=j and set(alls[i]).intersection(alls[j])!=set()):\n",
    "                alls[i].extend(alls[j])\n",
    "    \n",
    "    uniq=[]\n",
    "    for i in range(0,len(alls)):\n",
    "        uniq.append(list(np.unique(alls[i])))\n",
    "    print(np.unique(uniq))\n",
    "    realUniq=np.unique(uniq)\n",
    "    \n",
    "    for i in range(0,len(realUniq)):\n",
    "        for j in range(0,len(realUniq[i])):\n",
    "            cluster[realUniq[i][j]]=i\n",
    "    \n",
    "    x_cc=[]\n",
    "    y_cc=[]\n",
    "    for i in range(0,n):\n",
    "        if(flags[i]=='r'):\n",
    "            x_cc.append(x[i])\n",
    "            y_cc.append(y[i])\n",
    "    print(cluster) \n",
    "    k=len(np.unique(cluster))-1\n",
    "    \n",
    "    for i in range(1,len(flags)):\n",
    "        if(flags[i]=='y'):\n",
    "            R=dist(x[i],y[i],x[0],y[0])\n",
    "            for j in range(0,len(flags)):\n",
    "                 if(flags[j]=='g' and dist(x[i],y[i],x[j],y[j])<eps and dist(x[i],y[i],x[j],y[j])<=R):\n",
    "                    cluster[i]=cluster[j]\n",
    "            \n",
    "    for i in range(0,len(cluster)):\n",
    "        if(cluster[i]>=0):\n",
    "            clr=(cluster[i])/(k)\n",
    "            plt.scatter(x[i],y[i],color=(clr, 0.2, clr**2))\n",
    "    plt.scatter(x_cc,y_cc,color='red')\n",
    "    plt.show()\n",
    "\n",
    "def nghs(j):    \n",
    "    ngh=[]\n",
    "    ngh.append(j)\n",
    "    for i in range(0,n):\n",
    "        if(j!=i):\n",
    "            if((flags[i]=='g') and dist(x[j],y[j],x[i],y[i])<eps):\n",
    "                ngh.append(i)\n",
    "    return ngh\n",
    "    \n",
    "        \n",
    "def dist(x1,y1,x2,y2):\n",
    "    return np.sqrt((x1-x2)**2+(y1-y2)**2)\n",
    "\n",
    "print(x)\n",
    "dbscan()\n",
    "for i in range(0,n):\n",
    "    plt.scatter(x[i],y[i],color=flags[i])\n",
    "plt.show()\n"
   ]
  },
  {
   "cell_type": "code",
   "execution_count": null,
   "metadata": {},
   "outputs": [],
   "source": []
  }
 ],
 "metadata": {
  "kernelspec": {
   "display_name": "Python 3",
   "language": "python",
   "name": "python3"
  },
  "language_info": {
   "codemirror_mode": {
    "name": "ipython",
    "version": 3
   },
   "file_extension": ".py",
   "mimetype": "text/x-python",
   "name": "python",
   "nbconvert_exporter": "python",
   "pygments_lexer": "ipython3",
   "version": "3.7.3"
  }
 },
 "nbformat": 4,
 "nbformat_minor": 2
}
