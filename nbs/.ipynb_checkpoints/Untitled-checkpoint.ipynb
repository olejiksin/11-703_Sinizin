{
 "cells": [
  {
   "cell_type": "code",
   "execution_count": 76,
   "metadata": {
    "scrolled": false
   },
   "outputs": [
    {
     "name": "stdout",
     "output_type": "stream",
     "text": [
      "Левосторонний паратонзиллит\n",
      "Правосторонний паратонзиллит\n",
      "Левосторонний паратонзиллярный абсцесс\n",
      "RESULT:  Левосторонний паратонзиллярный абсцесс\n"
     ]
    }
   ],
   "source": [
    "import numpy as np\n",
    "import matplotlib.pyplot as plt\n",
    "import pandas as pd\n",
    "\n",
    "symptom=pd.read_csv(r'../bs/symptom.csv',';')\n",
    "dis=pd.read_csv(r'../bs/disease.csv',';')\n",
    "\n",
    "body=[0,0,0,0,0,0,0,0,0,0,0,0,1,1,0,1,1,0,1,1,1,1,1]\n",
    "\n",
    "disease=[]\n",
    "\n",
    "for i in range(len(dis)-1):\n",
    "    disease.append(dis['количество пациентов'][i]/303)\n",
    "    \n",
    "p=0\n",
    "result=''\n",
    "p1=0\n",
    "for i in range(len(dis)-1):\n",
    "    chisl=disease[i]\n",
    "    znam=1\n",
    "    for j in range(1,len(body)+1):\n",
    "        if(body[i]==1):\n",
    "            chisl*=symptom.iloc[i][1]\n",
    "            znam*=0.5\n",
    "    p1=chisl/znam\n",
    "    if (p<p1):\n",
    "        p=p1\n",
    "        result=dis.iloc[i][0]    \n",
    "        print(result)\n",
    "\n",
    "print('RESULT: ',result)"
   ]
  },
  {
   "cell_type": "code",
   "execution_count": null,
   "metadata": {},
   "outputs": [],
   "source": []
  }
 ],
 "metadata": {
  "kernelspec": {
   "display_name": "Python 3",
   "language": "python",
   "name": "python3"
  },
  "language_info": {
   "codemirror_mode": {
    "name": "ipython",
    "version": 3
   },
   "file_extension": ".py",
   "mimetype": "text/x-python",
   "name": "python",
   "nbconvert_exporter": "python",
   "pygments_lexer": "ipython3",
   "version": "3.7.3"
  }
 },
 "nbformat": 4,
 "nbformat_minor": 2
}
